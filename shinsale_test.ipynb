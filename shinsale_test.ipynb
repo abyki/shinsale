{
 "cells": [
  {
   "cell_type": "code",
   "execution_count": 3,
   "id": "c97d15fb",
   "metadata": {},
   "outputs": [],
   "source": [
    "import pandas as pd"
   ]
  },
  {
   "cell_type": "markdown",
   "id": "df5b2c5e",
   "metadata": {},
   "source": [
    "# PostgreSql скрипт"
   ]
  },
  {
   "cell_type": "markdown",
   "id": "7fb34da5",
   "metadata": {},
   "source": [
    "``` PostgreSql\n",
    "delete from deal_status a using deal_status b where a=b and a.ctid < b.ctid;\n",
    "\n",
    "drop view if EXISTS w1 cascade;\n",
    "create view w1 as \n",
    "SELECT DISTINCT id,\n",
    "\ttimestamp,\n",
    "    status,\n",
    "    DENSE_RANK() over (partition by id order by timestamp) as rank,\n",
    "    lead(timestamp) over (partition by id order by timestamp) as next_status\n",
    "FROM deal_status\n",
    "order by id, timestamp;\n",
    "\n",
    "with w2 as(\n",
    "select *, next_status - timestamp as diff, (next_status - timestamp)::FLOAT / 60 as diff_minuts\n",
    "from w1\n",
    "order by id, timestamp)\n",
    "\n",
    "select status, ROUND(avg(diff_minuts)::numeric, 1) as time_in_minutes\n",
    "from w2\n",
    "group by status\n",
    "having avg(diff_minuts) is not NULL\n",
    "```"
   ]
  },
  {
   "cell_type": "markdown",
   "id": "93c5b9c9",
   "metadata": {},
   "source": [
    "# Результат работы скрипта"
   ]
  },
  {
   "cell_type": "code",
   "execution_count": 9,
   "id": "ad0074e3",
   "metadata": {},
   "outputs": [],
   "source": [
    "dp = pd.read_csv(\"Output.csv\")"
   ]
  },
  {
   "cell_type": "code",
   "execution_count": 10,
   "id": "6a4fd418",
   "metadata": {},
   "outputs": [
    {
     "data": {
      "text/html": [
       "<div>\n",
       "<style scoped>\n",
       "    .dataframe tbody tr th:only-of-type {\n",
       "        vertical-align: middle;\n",
       "    }\n",
       "\n",
       "    .dataframe tbody tr th {\n",
       "        vertical-align: top;\n",
       "    }\n",
       "\n",
       "    .dataframe thead th {\n",
       "        text-align: right;\n",
       "    }\n",
       "</style>\n",
       "<table border=\"1\" class=\"dataframe\">\n",
       "  <thead>\n",
       "    <tr style=\"text-align: right;\">\n",
       "      <th></th>\n",
       "      <th>status</th>\n",
       "      <th>time_in_minutes</th>\n",
       "    </tr>\n",
       "  </thead>\n",
       "  <tbody>\n",
       "    <tr>\n",
       "      <th>0</th>\n",
       "      <td>Ожидает подтверждения</td>\n",
       "      <td>0.1</td>\n",
       "    </tr>\n",
       "    <tr>\n",
       "      <th>1</th>\n",
       "      <td>Проверка товара на складе</td>\n",
       "      <td>337.1</td>\n",
       "    </tr>\n",
       "    <tr>\n",
       "      <th>2</th>\n",
       "      <td>Товар не устраивает</td>\n",
       "      <td>1002.7</td>\n",
       "    </tr>\n",
       "    <tr>\n",
       "      <th>3</th>\n",
       "      <td>Формирование счета для юр.лица</td>\n",
       "      <td>0.0</td>\n",
       "    </tr>\n",
       "    <tr>\n",
       "      <th>4</th>\n",
       "      <td>Ожидание юр.лица</td>\n",
       "      <td>72.7</td>\n",
       "    </tr>\n",
       "    <tr>\n",
       "      <th>5</th>\n",
       "      <td>Сбор информации</td>\n",
       "      <td>6.8</td>\n",
       "    </tr>\n",
       "    <tr>\n",
       "      <th>6</th>\n",
       "      <td>Ожидание</td>\n",
       "      <td>378.6</td>\n",
       "    </tr>\n",
       "    <tr>\n",
       "      <th>7</th>\n",
       "      <td>Согласование нового товара</td>\n",
       "      <td>78.6</td>\n",
       "    </tr>\n",
       "    <tr>\n",
       "      <th>8</th>\n",
       "      <td>Заведение заказа в 1С</td>\n",
       "      <td>39.7</td>\n",
       "    </tr>\n",
       "    <tr>\n",
       "      <th>9</th>\n",
       "      <td>Проверка информации</td>\n",
       "      <td>32.2</td>\n",
       "    </tr>\n",
       "  </tbody>\n",
       "</table>\n",
       "</div>"
      ],
      "text/plain": [
       "                           status  time_in_minutes\n",
       "0           Ожидает подтверждения              0.1\n",
       "1       Проверка товара на складе            337.1\n",
       "2             Товар не устраивает           1002.7\n",
       "3  Формирование счета для юр.лица              0.0\n",
       "4                Ожидание юр.лица             72.7\n",
       "5                 Сбор информации              6.8\n",
       "6                        Ожидание            378.6\n",
       "7      Согласование нового товара             78.6\n",
       "8           Заведение заказа в 1С             39.7\n",
       "9             Проверка информации             32.2"
      ]
     },
     "execution_count": 10,
     "metadata": {},
     "output_type": "execute_result"
    }
   ],
   "source": [
    "dp"
   ]
  },
  {
   "cell_type": "markdown",
   "id": "2c4b1aca",
   "metadata": {},
   "source": [
    "# Немного о написании скрипта"
   ]
  },
  {
   "cell_type": "markdown",
   "id": "033868bf",
   "metadata": {},
   "source": [
    "Изначально методом внимательного взгляда и ранжировки были обнаружены дубликаты строк.\n",
    "Они не несут никакой новой информации, поэтому первым делом избавляемся от них."
   ]
  },
  {
   "cell_type": "markdown",
   "id": "b8725dd6",
   "metadata": {},
   "source": [
    "Далее необходимо было  в отсортированном наборе для каждого статуса поднять момент его изменения, если таков имеется.\n",
    "Для этого отлично подойдут оконные функции, в частности LEAD() - возвращает следующее значение в отсортированном окне."
   ]
  },
  {
   "cell_type": "markdown",
   "id": "f7dfd09c",
   "metadata": {},
   "source": [
    "Остается дело за малым, используя AVG() для посчитанной разницы в минутах и группируя по всем статусам, получаем искомые результаты. Скрипт должен отрабатывать корректно, так как наша оконная функция возвращает NULL, если смены статуса не было, а агрегация не использует NULL значения."
   ]
  },
  {
   "cell_type": "markdown",
   "id": "d6b1d5c5",
   "metadata": {},
   "source": [
    "# Дополнительный вопрос"
   ]
  },
  {
   "cell_type": "markdown",
   "id": "02524161",
   "metadata": {},
   "source": [
    "Анализируя полученный результат, можно сказать что самым долгим является статус \"Товар не устраивает\". Так же выбиваются из общего настроения статусы \"Ожидание\" и \"Проверка товара на складе\". Но, как я могу судить, эти статусы зависимы от действий покупателя(кроме Проверки товара на складе, однако это ручной физический труд, чем и определяется долгий статус)."
   ]
  },
  {
   "cell_type": "markdown",
   "id": "3e6d838d",
   "metadata": {},
   "source": [
    "Но полученные результаты не отражают полной картины, так как мы не видим текущий статус. Если у заявки конечный статус(\"Сделка успешна\"),  то проблем нет, однако мы не оцениваем висящие заявки в промежуточных статусах, следовательно анализ полученного результата не имеет большого смысла."
   ]
  },
  {
   "cell_type": "markdown",
   "id": "f28859a2",
   "metadata": {},
   "source": [
    "Для более честного анализа необходимо добавить подсчет висящих статусов от настоящего момента. Условно считая, что если статус не менялся, то мы все равно оцениваем его как NOW() - timestamp и используем в дальнейшей агрегации. Можно выкинуть из расчетов конечный статус, чтоб не нагружать систему, так как нам эта информация не интересна."
   ]
  },
  {
   "cell_type": "markdown",
   "id": "838737f1",
   "metadata": {},
   "source": [
    "# Дополнительная задача"
   ]
  },
  {
   "cell_type": "markdown",
   "id": "32a7b824",
   "metadata": {},
   "source": [
    "Не совсем понятно для какой выборки отображать текущий статус. Для полученной выборки это делать нельзя, так как у нас нет заявок, а идет агрегация по всем заявкам. А отображать текущую заявку в исходных данных нет смысла, мы можем вытащить его в любой момент."
   ]
  },
  {
   "cell_type": "code",
   "execution_count": null,
   "id": "ff9f7382",
   "metadata": {},
   "outputs": [],
   "source": []
  }
 ],
 "metadata": {
  "kernelspec": {
   "display_name": "Python 3 (ipykernel)",
   "language": "python",
   "name": "python3"
  },
  "language_info": {
   "codemirror_mode": {
    "name": "ipython",
    "version": 3
   },
   "file_extension": ".py",
   "mimetype": "text/x-python",
   "name": "python",
   "nbconvert_exporter": "python",
   "pygments_lexer": "ipython3",
   "version": "3.7.9"
  }
 },
 "nbformat": 4,
 "nbformat_minor": 5
}
